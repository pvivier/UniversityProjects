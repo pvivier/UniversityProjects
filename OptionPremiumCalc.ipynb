{
 "cells": [
  {
   "cell_type": "markdown",
   "id": "4da6fd96",
   "metadata": {},
   "source": [
    "Calculating Option Premiums for correlated baskets of stocks."
   ]
  },
  {
   "cell_type": "code",
   "execution_count": 80,
   "id": "0edfdc4d",
   "metadata": {},
   "outputs": [],
   "source": [
    "import pandas as pd\n",
    "import numpy as np\n",
    "import statistics\n",
    "from statistics import mean\n",
    "import matplotlib.pyplot as plt\n",
    "import random"
   ]
  },
  {
   "cell_type": "code",
   "execution_count": 81,
   "id": "c6415a36",
   "metadata": {},
   "outputs": [],
   "source": [
    "#Here I create the correlation matrix."
   ]
  },
  {
   "cell_type": "code",
   "execution_count": 82,
   "id": "427fe720",
   "metadata": {},
   "outputs": [],
   "source": [
    "cor = np.zeros((10,10))\n",
    "\n",
    "for i in range(10):\n",
    "    for j in range(10):\n",
    "\n",
    "        cor[i,j] = 0.9**abs(i-j)"
   ]
  },
  {
   "cell_type": "code",
   "execution_count": 83,
   "id": "97f86c55",
   "metadata": {},
   "outputs": [],
   "source": [
    "#This is a visual of the correlations."
   ]
  },
  {
   "cell_type": "code",
   "execution_count": 84,
   "id": "bd8c2015",
   "metadata": {},
   "outputs": [
    {
     "data": {
      "text/plain": [
       "Text(0.5, 15.0, 'Stocks')"
      ]
     },
     "execution_count": 84,
     "metadata": {},
     "output_type": "execute_result"
    },
    {
     "data": {
      "image/png": "[encoded data removed]",
      "text/plain": [
       "<Figure size 432x288 with 2 Axes>"
      ]
     },
     "metadata": {
      "needs_background": "light"
     },
     "output_type": "display_data"
    }
   ],
   "source": [
    "import numpy as np\n",
    "import seaborn as sns\n",
    "import matplotlib.pylab as plt\n",
    "\n",
    "uniform_data = np.random.rand(10, 12)\n",
    "ax = sns.heatmap(cor, linewidth=0.5, cmap = 'autumn_r')\n",
    "ax.set_title('Correlations Heatmap')\n",
    "ax.set_ylabel('Stocks')\n",
    "ax.set_xlabel('Stocks')"
   ]
  },
  {
   "cell_type": "code",
   "execution_count": 148,
   "id": "7e9f7da1",
   "metadata": {},
   "outputs": [
    {
     "data": {
      "text/plain": [
       "10.199885426048576"
      ]
     },
     "execution_count": 148,
     "metadata": {},
     "output_type": "execute_result"
    }
   ],
   "source": [
    "#Here I initialize the variables\n",
    "\n",
    "S_0 = 100\n",
    "sigma = 0.3\n",
    "T = 1 #Here one year one period\n",
    "K = 100\n",
    "\n",
    "cov = sigma**2 * T * cor\n",
    "\n",
    "rng = np.random.multivariate_normal(mean=np.zeros(10), cov=cov, size=1000000)\n",
    "#I generate the paths\n",
    "\n",
    "S_T = S_0 * np.exp(rng - (sigma**2)/2)\n",
    "#And apply them to our initial stock value\n",
    "\n",
    "P_T = np.mean(S_T, axis=1)\n",
    "#This is the average price of the stocks at time T\n",
    "\n",
    "payoffs = np.maximum(P_T-K, 0)\n",
    "#We get the payoffs for each of the 1000000 runs.\n",
    "\n",
    "basket_price_T = np.mean(payoffs)\n",
    "#And the average of those payoffs is what is EV of this option at time T\n",
    "\n",
    "basket_price_T\n",
    "#Since no interest rate this is also the current option premium."
   ]
  },
  {
   "cell_type": "code",
   "execution_count": 149,
   "id": "d692403d",
   "metadata": {},
   "outputs": [
    {
     "data": {
      "text/plain": [
       "-37.44902065555341"
      ]
     },
     "execution_count": 149,
     "metadata": {},
     "output_type": "execute_result"
    }
   ],
   "source": [
    "np.quantile(basket_price_T-payoffs, 0.05)"
   ]
  },
  {
   "cell_type": "code",
   "execution_count": 87,
   "id": "acd764bb",
   "metadata": {},
   "outputs": [],
   "source": [
    "#Here is the total loss that should not be exceeded in 95% of cases."
   ]
  },
  {
   "cell_type": "code",
   "execution_count": 150,
   "id": "066a6eaa",
   "metadata": {},
   "outputs": [
    {
     "data": {
      "text/plain": [
       "array([ 57.96357111, 113.59489968, 113.11026842, ...,  94.67104735,\n",
       "        61.10018932, 146.73276431])"
      ]
     },
     "execution_count": 150,
     "metadata": {},
     "output_type": "execute_result"
    }
   ],
   "source": [
    "np.mean(S_T, axis =1)"
   ]
  },
  {
   "cell_type": "code",
   "execution_count": 151,
   "id": "679f8ce9",
   "metadata": {},
   "outputs": [
    {
     "data": {
      "text/plain": [
       "100.01139302459242"
      ]
     },
     "execution_count": 151,
     "metadata": {},
     "output_type": "execute_result"
    }
   ],
   "source": [
    "np.mean(P_T)"
   ]
  }
 ],
 "metadata": {
  "kernelspec": {
   "display_name": "Python 3 (ipykernel)",
   "language": "python",
   "name": "python3"
  },
  "language_info": {
   "codemirror_mode": {
    "name": "ipython",
    "version": 3
   },
   "file_extension": ".py",
   "mimetype": "text/x-python",
   "name": "python",
   "nbconvert_exporter": "python",
   "pygments_lexer": "ipython3",
   "version": "3.9.12"
  }
 },
 "nbformat": 4,
 "nbformat_minor": 5
}
