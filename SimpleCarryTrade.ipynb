{
 "cells": [
  {
   "cell_type": "code",
   "execution_count": 369,
   "id": "f950aa5e",
   "metadata": {},
   "outputs": [],
   "source": [
    "import matplotlib.pyplot as plt\n",
    "import pandas as pd\n",
    "import numpy as np\n",
    "import  scipy as sp\n",
    "import quandl\n",
    "import functools\n",
    "import seaborn as sns\n",
    "from sklearn.metrics import mean_squared_error\n",
    "from itertools import accumulate\n",
    "import operator\n",
    "\n",
    "\n",
    "import nasdaqdatalink as ndl\n",
    "ndl.ApiConfig.api_key = '1tmjmeNoSxdLjAa-cHZ-'\n",
    "import nasdaqdatalink as ndl"
   ]
  },
  {
   "cell_type": "code",
   "execution_count": 370,
   "id": "a5f0918f",
   "metadata": {},
   "outputs": [],
   "source": [
    "pd.set_option('display.max_columns',None)"
   ]
  },
  {
   "cell_type": "code",
   "execution_count": 371,
   "id": "bdae276c",
   "metadata": {},
   "outputs": [],
   "source": [
    "def compute_bond_price(zcb, coupon_rate, tenor):\n",
    "    times = np.arange(tenor, 0, step=-0.5)[::-1]\n",
    "    if times.shape[0]==0:\n",
    "        print('No times')\n",
    "        p = 1.0\n",
    "    else:\n",
    "        r = np.interp(times, zcb.index.values, zcb.values) # Linear interpolation\n",
    "        p = np.exp(-tenor*r[-1]) + 0.5 * coupon_rate * np.exp(-r*times).sum()\n",
    "    return p\n",
    "\n",
    "def compute_zcb_curve(spot_rates_curve):\n",
    "    zcb_rates = spot_rates_curve.copy()\n",
    "    for curve in spot_rates_curve.columns:\n",
    "        spot = spot_rates_curve[curve]\n",
    "        for tenor, spot_rate in spot.iteritems():\n",
    "            if tenor>0.001:\n",
    "                times = np.arange(tenor-0.5, 0, step=-0.5)[::-1]\n",
    "                coupon_half_yr = 0.5*spot_rate\n",
    "                z = np.interp(times, zcb_rates[curve].index.values, zcb_rates[curve].values) # Linear interpolation\n",
    "                preceding_coupons_val = (coupon_half_yr*np.exp(-z*times)).sum()\n",
    "                zcb_rates[curve][tenor] = -np.log((1-preceding_coupons_val)/(1+coupon_half_yr))/tenor\n",
    "    return zcb_rates\n",
    "\n",
    "def computing_both_prices(zcb, coupon_rate):\n",
    "    double = pd.DataFrame(columns=['Initial','Week'], index=zcb.index)\n",
    "    for i in range(len(double)-1):\n",
    "        double.iloc[i]['Initial'] = compute_bond_price(zcb.iloc[i],coupon_rate.iloc[i][5],5)\n",
    "        double.iloc[i]['Week'] = compute_bond_price(zcb.iloc[i+1],coupon_rate.iloc[i+1][5],259/52)\n",
    "    return double"
   ]
  },
  {
   "cell_type": "markdown",
   "id": "1b472e07",
   "metadata": {},
   "source": [
    "# Loading in all the Data - FX and Yield Curves"
   ]
  },
  {
   "cell_type": "markdown",
   "id": "947398a6",
   "metadata": {},
   "source": [
    "To start simple, I import USDGBP rates."
   ]
  },
  {
   "cell_type": "code",
   "execution_count": 372,
   "id": "377cb620",
   "metadata": {},
   "outputs": [],
   "source": [
    "USDGBP = ndl.get('CUR/GBP', start_date = '2014-12-01', end_date = '2023-02-28').resample('W-WED').ffill()\\\n",
    ".rename(columns = {'RATE':'USDGBP'})"
   ]
  },
  {
   "cell_type": "code",
   "execution_count": 373,
   "id": "66b47bb5",
   "metadata": {},
   "outputs": [
    {
     "data": {
      "text/html": [
       "<div>\n",
       "<style scoped>\n",
       "    .dataframe tbody tr th:only-of-type {\n",
       "        vertical-align: middle;\n",
       "    }\n",
       "\n",
       "    .dataframe tbody tr th {\n",
       "        vertical-align: top;\n",
       "    }\n",
       "\n",
       "    .dataframe thead th {\n",
       "        text-align: right;\n",
       "    }\n",
       "</style>\n",
       "<table border=\"1\" class=\"dataframe\">\n",
       "  <thead>\n",
       "    <tr style=\"text-align: right;\">\n",
       "      <th></th>\n",
       "      <th>USDGBP</th>\n",
       "    </tr>\n",
       "    <tr>\n",
       "      <th>DATE</th>\n",
       "      <th></th>\n",
       "    </tr>\n",
       "  </thead>\n",
       "  <tbody>\n",
       "    <tr>\n",
       "      <th>2014-12-03</th>\n",
       "      <td>0.637756</td>\n",
       "    </tr>\n",
       "    <tr>\n",
       "      <th>2014-12-10</th>\n",
       "      <td>0.636345</td>\n",
       "    </tr>\n",
       "    <tr>\n",
       "      <th>2014-12-17</th>\n",
       "      <td>0.642142</td>\n",
       "    </tr>\n",
       "    <tr>\n",
       "      <th>2014-12-24</th>\n",
       "      <td>0.642895</td>\n",
       "    </tr>\n",
       "    <tr>\n",
       "      <th>2014-12-31</th>\n",
       "      <td>0.641866</td>\n",
       "    </tr>\n",
       "    <tr>\n",
       "      <th>...</th>\n",
       "      <td>...</td>\n",
       "    </tr>\n",
       "    <tr>\n",
       "      <th>2023-02-01</th>\n",
       "      <td>0.812038</td>\n",
       "    </tr>\n",
       "    <tr>\n",
       "      <th>2023-02-08</th>\n",
       "      <td>0.829610</td>\n",
       "    </tr>\n",
       "    <tr>\n",
       "      <th>2023-02-15</th>\n",
       "      <td>0.823083</td>\n",
       "    </tr>\n",
       "    <tr>\n",
       "      <th>2023-02-22</th>\n",
       "      <td>0.826013</td>\n",
       "    </tr>\n",
       "    <tr>\n",
       "      <th>2023-03-01</th>\n",
       "      <td>0.830584</td>\n",
       "    </tr>\n",
       "  </tbody>\n",
       "</table>\n",
       "<p>431 rows × 1 columns</p>\n",
       "</div>"
      ],
      "text/plain": [
       "              USDGBP\n",
       "DATE                \n",
       "2014-12-03  0.637756\n",
       "2014-12-10  0.636345\n",
       "2014-12-17  0.642142\n",
       "2014-12-24  0.642895\n",
       "2014-12-31  0.641866\n",
       "...              ...\n",
       "2023-02-01  0.812038\n",
       "2023-02-08  0.829610\n",
       "2023-02-15  0.823083\n",
       "2023-02-22  0.826013\n",
       "2023-03-01  0.830584\n",
       "\n",
       "[431 rows x 1 columns]"
      ]
     },
     "execution_count": 373,
     "metadata": {},
     "output_type": "execute_result"
    }
   ],
   "source": [
    "USDGBP"
   ]
  },
  {
   "cell_type": "markdown",
   "id": "0a53cbcf",
   "metadata": {},
   "source": [
    "Nice check that the Rates are below 1 so we got the data the right way round."
   ]
  },
  {
   "cell_type": "markdown",
   "id": "375ca639",
   "metadata": {},
   "source": [
    "## Yield Curves and FX rates for Vietnamese Dong, Thai Baht, Pakistani Rupee and Philippine Peso."
   ]
  },
  {
   "cell_type": "code",
   "execution_count": 397,
   "id": "cfe274dd",
   "metadata": {},
   "outputs": [],
   "source": [
    "fx_thai = ndl.get('CUR/THB', start_date = '2014-12-01', end_date = '2023-02-28').rename(columns = {'RATE':'THBfx'}).resample('W-WED').ffill()\n",
    "fx_viet = ndl.get('CUR/VND', start_date = '2014-12-01', end_date = '2023-02-28').rename(columns = {'RATE':'VNDfx'}).resample('W-WED').ffill()\n",
    "fx_pak = ndl.get('CUR/PKR', start_date = '2014-12-01', end_date = '2023-02-28').rename(columns = {'RATE':'PKRfx'}).resample('W-WED').ffill()\n",
    "fx_phil = ndl.get('CUR/PHP', start_date = '2014-12-01', end_date = '2023-02-28').rename(columns = {'RATE':'PHPfx'}).resample('W-WED').ffill()\n",
    "\n",
    "yd_thai = ndl.get('YC/THA', start_date = '2014-12-01', end_date = '2023-02-28')\\\n",
    "[['1-Year','3-Year','5-Year', '10-Year']].rename(columns = {'1-Year':1,'3-Year':3,'5-Year':5, '10-Year':10})\n",
    "\n",
    "yd_viet = ndl.get('YC/VNM', start_date = '2014-12-01', end_date = '2023-02-28')\\\n",
    "[['1-Year','3-Year','5-Year', '10-Year']].rename(columns = {'1-Year':1,'3-Year':3,'5-Year':5, '10-Year':10})\n",
    "\n",
    "yd_pak = ndl.get('YC/PAK', start_date = '2014-12-01', end_date = '2023-02-28')\\\n",
    "[['12-Month','3-Year','5-Year', '10-Year']].rename(columns = {'12-Month':1,'3-Year':3,'5-Year':5, '10-Year':10})\n",
    "\n",
    "yd_phil = ndl.get('YC/PHL', start_date = '2014-12-01', end_date = '2023-02-28')\\\n",
    "[['1-Year','3-Year','5-Year', '10-Year']].rename(columns = {'1-Year':1,'3-Year':3,'5-Year':5, '10-Year':10})\n",
    "\n",
    "yd_thai = yd_thai.resample('W-WED').ffill()/100\n",
    "yd_viet = yd_viet.resample('W-WED').ffill()/100\n",
    "yd_pak = yd_pak.resample('W-WED').ffill()/100\n",
    "yd_phil = yd_phil.resample('W-WED').ffill()/100\n",
    "\n",
    "zcb_thai = compute_zcb_curve(yd_thai.T).T\n",
    "zcb_viet = compute_zcb_curve(yd_viet.T).T\n",
    "zcb_pak = compute_zcb_curve(yd_pak.T).T\n",
    "zcb_phil = compute_zcb_curve(yd_phil.T).T\n",
    "\n",
    "#And the OISs\n",
    "\n",
    "issc = ndl.get('YC/GBR_ISSC',start_date = '2014-12-01', end_date = '2023-02-28')\n",
    "isss = ndl.get('YC/GBR_ISSS',start_date = '2014-12-01', end_date = '2023-02-28')\n",
    "ois = pd.concat([issc.loc[:'2021-01-01'], isss.loc['2021-01-02':]], axis=0).resample('W-WED').last().ffill().loc['2014-12-01':]/100\n",
    "\n"
   ]
  },
  {
   "cell_type": "markdown",
   "id": "3c30a55e",
   "metadata": {},
   "source": [
    "We now need to calculate the bond prices, using our previously calculated zcb and the coupon rates."
   ]
  },
  {
   "cell_type": "markdown",
   "id": "b8c2ee10",
   "metadata": {},
   "source": [
    "For each bond at each date, we need to know firstly its price at the beginning of the strategy, and then a week later."
   ]
  },
  {
   "cell_type": "code",
   "execution_count": 399,
   "id": "8ad8c4aa",
   "metadata": {},
   "outputs": [],
   "source": [
    "def compute_bond_price(zcb, coupon_rate, tenor):\n",
    "    times = np.arange(tenor, 0, step=-0.5)[::-1]\n",
    "    if times.shape[0]==0:\n",
    "        print('No times')\n",
    "        p = 1.0\n",
    "    else:\n",
    "        r = np.interp(times, zcb.index.values, zcb.values) # Linear interpolation\n",
    "        p = np.exp(-tenor*r[-1]) + 0.5 * coupon_rate * np.exp(-r*times).sum()\n",
    "    return p"
   ]
  },
  {
   "cell_type": "markdown",
   "id": "594e9c3e",
   "metadata": {},
   "source": [
    "This function computes the bond prices and their price after a week."
   ]
  },
  {
   "cell_type": "code",
   "execution_count": 443,
   "id": "f77105f3",
   "metadata": {},
   "outputs": [],
   "source": [
    "def computing_both_prices(zcb, coupon_rate):\n",
    "    price_initial = pd.DataFrame(columns=['Initial'], index=zcb.index)\n",
    "    price_week = pd.DataFrame(columns=['Week'], index=zcb.index)\n",
    "    for i in range(len(price_initial)-1):\n",
    "        price_initial.iloc[i]['Initial'] = compute_bond_price(zcb.iloc[i],coupon_rate.iloc[i][5],5)\n",
    "        price_week.iloc[i]['Week'] = compute_bond_price(zcb.iloc[i+1],coupon_rate.iloc[i+1][5],259/52)\n",
    "    return(price_initial,price_week)"
   ]
  },
  {
   "cell_type": "code",
   "execution_count": 444,
   "id": "76ce0f22",
   "metadata": {},
   "outputs": [],
   "source": [
    "price_thai = computing_both_prices(zcb_thai, yd_thai)\n",
    "price_viet = computing_both_prices(zcb_viet, yd_viet)\n",
    "price_pak = computing_both_prices(zcb_pak, yd_pak)\n",
    "price_phil = computing_both_prices(zcb_phil, yd_phil)"
   ]
  },
  {
   "cell_type": "markdown",
   "id": "49a40a55",
   "metadata": {},
   "source": [
    "# Now that we have all the data, on to the algorithm"
   ]
  },
  {
   "cell_type": "markdown",
   "id": "e19a4084",
   "metadata": {},
   "source": [
    "I need to write out what we are going to do to code it more effectively.\n",
    "\n",
    "\n",
    "First, we borrow 8 million dollars with GBP. We also own 2 million USD.\n",
    "\n",
    "We use this to buy bonds in a foreign currency, if they pay more than 50bp + interest on gbp.\n",
    "\n",
    "Sell these bonds after a week, which are worth more now than they were a week ago.\n",
    "\n",
    "Convert money back to usd and pay the interest on the 8 million dollar worth of gbp.\n",
    "\n",
    "\n"
   ]
  },
  {
   "cell_type": "code",
   "execution_count": 448,
   "id": "69cefaa0",
   "metadata": {},
   "outputs": [],
   "source": [
    "def carry_trade(USDGBP, yd, price_initial, price_week, ois, fx):\n",
    "    \n",
    "    yiel = yd[:'2022-12-19'][5]\n",
    "    fx = fx[:'2022-12-19']\n",
    "    initial_price = price_initial[:'2022-12-19']['Initial']\n",
    "    week_price = price_week[:'2022-12-19']['Week']\n",
    "    USDGBP = USDGBP[:'2022-12-19']\n",
    "    ois5 = ois[:'2022-12-19']['5.0Y']\n",
    "    ois008 = ois[:'2022-12-19']['0.08Y']\n",
    "    \n",
    "    pnl = [0] * len(yiel)\n",
    "    k = 0\n",
    "    for i in range(len(yiel)-1):\n",
    "        if yiel[i] > ois5[i] + 0.005:\n",
    "            #what its going to cost to borrow the GBP\n",
    "            amount_of_gbp_borrowed = 8000000 * USDGBP.iloc[i]\n",
    "            #if k == 0:\n",
    "                #print(amount_of_gbp_borrowed)\n",
    "                \n",
    "            #how many bonds we can buy\n",
    "            total_USD = 10000000\n",
    "            total_foreign_currency = total_USD*fx.iloc[i]\n",
    "            \n",
    "            number_of_bonds = total_foreign_currency/initial_price[i]\n",
    "            #if k==0:\n",
    "           #     print('blue' + str(number_of_bonds))\n",
    "            '''\n",
    "            total USD = 10M\n",
    "            buy bonds, total USD = 0\n",
    "            we own number of bonds * bond value and have foreign currency\n",
    "            we earn interest in foreign currency\n",
    "            we sell these bonds and have foreign currency\n",
    "            transfer back this foreign currency total usd = >10M hopefully\n",
    "            '''\n",
    "            \n",
    "            #this is what we earn holding bonds a week in the foreign currency\n",
    "            interest_pnl = number_of_bonds * yiel[i] * initial_price[i]\n",
    "            #if k == 0:\n",
    "                #print('interest + this is in foreign currency ' + str(interest_pnl))\n",
    "            \n",
    "            #this is what these bonds we held are worth after selling them and converting into USD\n",
    "            value_of_these_bonds = number_of_bonds*week_price[i]/fx.iloc[i+1]\n",
    "            \n",
    "            bond_pnl = value_of_these_bonds - 10000000\n",
    "            #if k == 0:\n",
    "                #print('bond - this is in USD ' + str(bond_pnl))\n",
    "            #convert interest pnl in usd\n",
    "            interest_pnl = interest_pnl / fx.iloc[i+1]\n",
    "            \n",
    "            \n",
    "            #and now pay back the gbp\n",
    "            \n",
    "            how_many_dollars_do_we_send_back_to_pay_8M = amount_of_gbp_borrowed * (1 +((ois008.iloc[i]+0.005)/52))\\\n",
    "            / (USDGBP.iloc[i+1])#at the new interest rate\n",
    "            \n",
    "            gbp_pnl = 8000000 - how_many_dollars_do_we_send_back_to_pay_8M\n",
    "            #print('a' + str(gbp_pnl[0]))\n",
    "            #print('b' + str(bond_pnl[0]))\n",
    "            #if k == 0:\n",
    "                #print('gbp - this is in usd ' + str(gbp_pnl))\n",
    "            #so in the end, we have the interest gained\n",
    "            \n",
    "            pnl[i] = (gbp_pnl[0] + bond_pnl[0]).astype(float)\n",
    "            \n",
    "            \n",
    "            \n",
    "            #print(pnl[i])\n",
    "    data = yiel.to_frame()\n",
    "    data['pnl'] = pnl\n",
    "    data['cumpnl'] = np.cumsum(pnl)\n",
    "        #print('final' + str(pnl[i]))\n",
    "    return(data[['pnl','cumpnl']])\n"
   ]
  },
  {
   "cell_type": "code",
   "execution_count": 449,
   "id": "4a63c288",
   "metadata": {},
   "outputs": [
    {
     "data": {
      "text/html": [
       "<div>\n",
       "<style scoped>\n",
       "    .dataframe tbody tr th:only-of-type {\n",
       "        vertical-align: middle;\n",
       "    }\n",
       "\n",
       "    .dataframe tbody tr th {\n",
       "        vertical-align: top;\n",
       "    }\n",
       "\n",
       "    .dataframe thead th {\n",
       "        text-align: right;\n",
       "    }\n",
       "</style>\n",
       "<table border=\"1\" class=\"dataframe\">\n",
       "  <thead>\n",
       "    <tr style=\"text-align: right;\">\n",
       "      <th></th>\n",
       "      <th>pnl</th>\n",
       "      <th>cumpnl</th>\n",
       "    </tr>\n",
       "    <tr>\n",
       "      <th>Date</th>\n",
       "      <th></th>\n",
       "      <th></th>\n",
       "    </tr>\n",
       "  </thead>\n",
       "  <tbody>\n",
       "    <tr>\n",
       "      <th>2014-12-03</th>\n",
       "      <td>-5246.517033</td>\n",
       "      <td>-5.246517e+03</td>\n",
       "    </tr>\n",
       "    <tr>\n",
       "      <th>2014-12-10</th>\n",
       "      <td>38428.805818</td>\n",
       "      <td>3.318229e+04</td>\n",
       "    </tr>\n",
       "    <tr>\n",
       "      <th>2014-12-17</th>\n",
       "      <td>33909.802498</td>\n",
       "      <td>6.709209e+04</td>\n",
       "    </tr>\n",
       "    <tr>\n",
       "      <th>2014-12-24</th>\n",
       "      <td>-13269.995826</td>\n",
       "      <td>5.382210e+04</td>\n",
       "    </tr>\n",
       "    <tr>\n",
       "      <th>2014-12-31</th>\n",
       "      <td>251814.970022</td>\n",
       "      <td>3.056371e+05</td>\n",
       "    </tr>\n",
       "    <tr>\n",
       "      <th>...</th>\n",
       "      <td>...</td>\n",
       "      <td>...</td>\n",
       "    </tr>\n",
       "    <tr>\n",
       "      <th>2022-11-16</th>\n",
       "      <td>0.000000</td>\n",
       "      <td>1.776124e+06</td>\n",
       "    </tr>\n",
       "    <tr>\n",
       "      <th>2022-11-23</th>\n",
       "      <td>0.000000</td>\n",
       "      <td>1.776124e+06</td>\n",
       "    </tr>\n",
       "    <tr>\n",
       "      <th>2022-11-30</th>\n",
       "      <td>0.000000</td>\n",
       "      <td>1.776124e+06</td>\n",
       "    </tr>\n",
       "    <tr>\n",
       "      <th>2022-12-07</th>\n",
       "      <td>0.000000</td>\n",
       "      <td>1.776124e+06</td>\n",
       "    </tr>\n",
       "    <tr>\n",
       "      <th>2022-12-14</th>\n",
       "      <td>0.000000</td>\n",
       "      <td>1.776124e+06</td>\n",
       "    </tr>\n",
       "  </tbody>\n",
       "</table>\n",
       "<p>420 rows × 2 columns</p>\n",
       "</div>"
      ],
      "text/plain": [
       "                      pnl        cumpnl\n",
       "Date                                   \n",
       "2014-12-03   -5246.517033 -5.246517e+03\n",
       "2014-12-10   38428.805818  3.318229e+04\n",
       "2014-12-17   33909.802498  6.709209e+04\n",
       "2014-12-24  -13269.995826  5.382210e+04\n",
       "2014-12-31  251814.970022  3.056371e+05\n",
       "...                   ...           ...\n",
       "2022-11-16       0.000000  1.776124e+06\n",
       "2022-11-23       0.000000  1.776124e+06\n",
       "2022-11-30       0.000000  1.776124e+06\n",
       "2022-12-07       0.000000  1.776124e+06\n",
       "2022-12-14       0.000000  1.776124e+06\n",
       "\n",
       "[420 rows x 2 columns]"
      ]
     },
     "execution_count": 449,
     "metadata": {},
     "output_type": "execute_result"
    }
   ],
   "source": [
    "carry_trade(USDGBP, yd_thai, price_thai[0], price_thai[1], ois, fx_thai)"
   ]
  },
  {
   "cell_type": "markdown",
   "id": "4677eb2f",
   "metadata": {},
   "source": [
    "# Now we test the Carry trade algorithm on currency pairs."
   ]
  },
  {
   "cell_type": "markdown",
   "id": "e4d2b71b",
   "metadata": {},
   "source": [
    "# Viet Dong"
   ]
  },
  {
   "cell_type": "code",
   "execution_count": 458,
   "id": "9d5f048a",
   "metadata": {},
   "outputs": [
    {
     "data": {
      "text/html": [
       "<div>\n",
       "<style scoped>\n",
       "    .dataframe tbody tr th:only-of-type {\n",
       "        vertical-align: middle;\n",
       "    }\n",
       "\n",
       "    .dataframe tbody tr th {\n",
       "        vertical-align: top;\n",
       "    }\n",
       "\n",
       "    .dataframe thead th {\n",
       "        text-align: right;\n",
       "    }\n",
       "</style>\n",
       "<table border=\"1\" class=\"dataframe\">\n",
       "  <thead>\n",
       "    <tr style=\"text-align: right;\">\n",
       "      <th></th>\n",
       "      <th>pnl</th>\n",
       "      <th>cumpnl</th>\n",
       "    </tr>\n",
       "    <tr>\n",
       "      <th>Date</th>\n",
       "      <th></th>\n",
       "      <th></th>\n",
       "    </tr>\n",
       "  </thead>\n",
       "  <tbody>\n",
       "    <tr>\n",
       "      <th>2014-12-03</th>\n",
       "      <td>2916.805431</td>\n",
       "      <td>2.916805e+03</td>\n",
       "    </tr>\n",
       "    <tr>\n",
       "      <th>2014-12-10</th>\n",
       "      <td>70158.717241</td>\n",
       "      <td>7.307552e+04</td>\n",
       "    </tr>\n",
       "    <tr>\n",
       "      <th>2014-12-17</th>\n",
       "      <td>17818.609214</td>\n",
       "      <td>9.089413e+04</td>\n",
       "    </tr>\n",
       "    <tr>\n",
       "      <th>2014-12-24</th>\n",
       "      <td>997.272556</td>\n",
       "      <td>9.189140e+04</td>\n",
       "    </tr>\n",
       "    <tr>\n",
       "      <th>2014-12-31</th>\n",
       "      <td>242292.890934</td>\n",
       "      <td>3.341843e+05</td>\n",
       "    </tr>\n",
       "    <tr>\n",
       "      <th>...</th>\n",
       "      <td>...</td>\n",
       "      <td>...</td>\n",
       "    </tr>\n",
       "    <tr>\n",
       "      <th>2022-11-16</th>\n",
       "      <td>-29944.831861</td>\n",
       "      <td>3.202854e+06</td>\n",
       "    </tr>\n",
       "    <tr>\n",
       "      <th>2022-11-23</th>\n",
       "      <td>20476.077349</td>\n",
       "      <td>3.223330e+06</td>\n",
       "    </tr>\n",
       "    <tr>\n",
       "      <th>2022-11-30</th>\n",
       "      <td>234297.228217</td>\n",
       "      <td>3.457627e+06</td>\n",
       "    </tr>\n",
       "    <tr>\n",
       "      <th>2022-12-07</th>\n",
       "      <td>7304.279833</td>\n",
       "      <td>3.464932e+06</td>\n",
       "    </tr>\n",
       "    <tr>\n",
       "      <th>2022-12-14</th>\n",
       "      <td>0.000000</td>\n",
       "      <td>3.464932e+06</td>\n",
       "    </tr>\n",
       "  </tbody>\n",
       "</table>\n",
       "<p>420 rows × 2 columns</p>\n",
       "</div>"
      ],
      "text/plain": [
       "                      pnl        cumpnl\n",
       "Date                                   \n",
       "2014-12-03    2916.805431  2.916805e+03\n",
       "2014-12-10   70158.717241  7.307552e+04\n",
       "2014-12-17   17818.609214  9.089413e+04\n",
       "2014-12-24     997.272556  9.189140e+04\n",
       "2014-12-31  242292.890934  3.341843e+05\n",
       "...                   ...           ...\n",
       "2022-11-16  -29944.831861  3.202854e+06\n",
       "2022-11-23   20476.077349  3.223330e+06\n",
       "2022-11-30  234297.228217  3.457627e+06\n",
       "2022-12-07    7304.279833  3.464932e+06\n",
       "2022-12-14       0.000000  3.464932e+06\n",
       "\n",
       "[420 rows x 2 columns]"
      ]
     },
     "execution_count": 458,
     "metadata": {},
     "output_type": "execute_result"
    }
   ],
   "source": [
    "viet = carry_trade(USDGBP, yd_viet, price_viet[0], price_viet[1], ois, fx_viet)\n",
    "viet"
   ]
  },
  {
   "cell_type": "code",
   "execution_count": 459,
   "id": "1cd0fe70",
   "metadata": {},
   "outputs": [
    {
     "data": {
      "text/plain": [
       "[<matplotlib.lines.Line2D at 0x7fa8b31668e0>]"
      ]
     },
     "execution_count": 459,
     "metadata": {},
     "output_type": "execute_result"
    },
    {
     "data": {
      "image/png": "[encoded data removed]",
      "text/plain": [
       "<Figure size 432x288 with 1 Axes>"
      ]
     },
     "metadata": {
      "needs_background": "light"
     },
     "output_type": "display_data"
    }
   ],
   "source": [
    "plt.plot(viet['cumpnl'])"
   ]
  },
  {
   "cell_type": "code",
   "execution_count": null,
   "id": "7216d6f3",
   "metadata": {},
   "outputs": [],
   "source": []
  },
  {
   "cell_type": "markdown",
   "id": "0ae353e5",
   "metadata": {},
   "source": [
    "# Thai Baht"
   ]
  },
  {
   "cell_type": "code",
   "execution_count": 454,
   "id": "b5d484ca",
   "metadata": {},
   "outputs": [
    {
     "data": {
      "text/html": [
       "<div>\n",
       "<style scoped>\n",
       "    .dataframe tbody tr th:only-of-type {\n",
       "        vertical-align: middle;\n",
       "    }\n",
       "\n",
       "    .dataframe tbody tr th {\n",
       "        vertical-align: top;\n",
       "    }\n",
       "\n",
       "    .dataframe thead th {\n",
       "        text-align: right;\n",
       "    }\n",
       "</style>\n",
       "<table border=\"1\" class=\"dataframe\">\n",
       "  <thead>\n",
       "    <tr style=\"text-align: right;\">\n",
       "      <th></th>\n",
       "      <th>pnl</th>\n",
       "      <th>cumpnl</th>\n",
       "    </tr>\n",
       "    <tr>\n",
       "      <th>Date</th>\n",
       "      <th></th>\n",
       "      <th></th>\n",
       "    </tr>\n",
       "  </thead>\n",
       "  <tbody>\n",
       "    <tr>\n",
       "      <th>2014-12-03</th>\n",
       "      <td>-5246.517033</td>\n",
       "      <td>-5.246517e+03</td>\n",
       "    </tr>\n",
       "    <tr>\n",
       "      <th>2014-12-10</th>\n",
       "      <td>38428.805818</td>\n",
       "      <td>3.318229e+04</td>\n",
       "    </tr>\n",
       "    <tr>\n",
       "      <th>2014-12-17</th>\n",
       "      <td>33909.802498</td>\n",
       "      <td>6.709209e+04</td>\n",
       "    </tr>\n",
       "    <tr>\n",
       "      <th>2014-12-24</th>\n",
       "      <td>-13269.995826</td>\n",
       "      <td>5.382210e+04</td>\n",
       "    </tr>\n",
       "    <tr>\n",
       "      <th>2014-12-31</th>\n",
       "      <td>251814.970022</td>\n",
       "      <td>3.056371e+05</td>\n",
       "    </tr>\n",
       "    <tr>\n",
       "      <th>...</th>\n",
       "      <td>...</td>\n",
       "      <td>...</td>\n",
       "    </tr>\n",
       "    <tr>\n",
       "      <th>2022-11-16</th>\n",
       "      <td>0.000000</td>\n",
       "      <td>1.776124e+06</td>\n",
       "    </tr>\n",
       "    <tr>\n",
       "      <th>2022-11-23</th>\n",
       "      <td>0.000000</td>\n",
       "      <td>1.776124e+06</td>\n",
       "    </tr>\n",
       "    <tr>\n",
       "      <th>2022-11-30</th>\n",
       "      <td>0.000000</td>\n",
       "      <td>1.776124e+06</td>\n",
       "    </tr>\n",
       "    <tr>\n",
       "      <th>2022-12-07</th>\n",
       "      <td>0.000000</td>\n",
       "      <td>1.776124e+06</td>\n",
       "    </tr>\n",
       "    <tr>\n",
       "      <th>2022-12-14</th>\n",
       "      <td>0.000000</td>\n",
       "      <td>1.776124e+06</td>\n",
       "    </tr>\n",
       "  </tbody>\n",
       "</table>\n",
       "<p>420 rows × 2 columns</p>\n",
       "</div>"
      ],
      "text/plain": [
       "                      pnl        cumpnl\n",
       "Date                                   \n",
       "2014-12-03   -5246.517033 -5.246517e+03\n",
       "2014-12-10   38428.805818  3.318229e+04\n",
       "2014-12-17   33909.802498  6.709209e+04\n",
       "2014-12-24  -13269.995826  5.382210e+04\n",
       "2014-12-31  251814.970022  3.056371e+05\n",
       "...                   ...           ...\n",
       "2022-11-16       0.000000  1.776124e+06\n",
       "2022-11-23       0.000000  1.776124e+06\n",
       "2022-11-30       0.000000  1.776124e+06\n",
       "2022-12-07       0.000000  1.776124e+06\n",
       "2022-12-14       0.000000  1.776124e+06\n",
       "\n",
       "[420 rows x 2 columns]"
      ]
     },
     "execution_count": 454,
     "metadata": {},
     "output_type": "execute_result"
    }
   ],
   "source": [
    "thai = carry_trade(USDGBP, yd_thai, price_thai[0], price_thai[1], ois, fx_thai)\n",
    "thai"
   ]
  },
  {
   "cell_type": "code",
   "execution_count": 457,
   "id": "ff3d03fc",
   "metadata": {},
   "outputs": [
    {
     "data": {
      "text/plain": [
       "[<matplotlib.lines.Line2D at 0x7fa8b379ebe0>]"
      ]
     },
     "execution_count": 457,
     "metadata": {},
     "output_type": "execute_result"
    },
    {
     "data": {
      "image/png": "[encoded data removed]",
      "text/plain": [
       "<Figure size 432x288 with 1 Axes>"
      ]
     },
     "metadata": {
      "needs_background": "light"
     },
     "output_type": "display_data"
    }
   ],
   "source": [
    "plt.plot(thai['cumpnl'])"
   ]
  },
  {
   "cell_type": "markdown",
   "id": "0461ae89",
   "metadata": {},
   "source": [
    "# Pakistani Rupee"
   ]
  },
  {
   "cell_type": "code",
   "execution_count": 460,
   "id": "479ba2d4",
   "metadata": {},
   "outputs": [
    {
     "data": {
      "text/html": [
       "<div>\n",
       "<style scoped>\n",
       "    .dataframe tbody tr th:only-of-type {\n",
       "        vertical-align: middle;\n",
       "    }\n",
       "\n",
       "    .dataframe tbody tr th {\n",
       "        vertical-align: top;\n",
       "    }\n",
       "\n",
       "    .dataframe thead th {\n",
       "        text-align: right;\n",
       "    }\n",
       "</style>\n",
       "<table border=\"1\" class=\"dataframe\">\n",
       "  <thead>\n",
       "    <tr style=\"text-align: right;\">\n",
       "      <th></th>\n",
       "      <th>pnl</th>\n",
       "      <th>cumpnl</th>\n",
       "    </tr>\n",
       "    <tr>\n",
       "      <th>Date</th>\n",
       "      <th></th>\n",
       "      <th></th>\n",
       "    </tr>\n",
       "  </thead>\n",
       "  <tbody>\n",
       "    <tr>\n",
       "      <th>2014-12-03</th>\n",
       "      <td>10753.068408</td>\n",
       "      <td>10753.068408</td>\n",
       "    </tr>\n",
       "    <tr>\n",
       "      <th>2014-12-10</th>\n",
       "      <td>54572.750635</td>\n",
       "      <td>65325.819043</td>\n",
       "    </tr>\n",
       "    <tr>\n",
       "      <th>2014-12-17</th>\n",
       "      <td>50421.187422</td>\n",
       "      <td>115747.006466</td>\n",
       "    </tr>\n",
       "    <tr>\n",
       "      <th>2014-12-24</th>\n",
       "      <td>3212.932978</td>\n",
       "      <td>118959.939444</td>\n",
       "    </tr>\n",
       "    <tr>\n",
       "      <th>2014-12-31</th>\n",
       "      <td>267240.780226</td>\n",
       "      <td>386200.719669</td>\n",
       "    </tr>\n",
       "    <tr>\n",
       "      <th>...</th>\n",
       "      <td>...</td>\n",
       "      <td>...</td>\n",
       "    </tr>\n",
       "    <tr>\n",
       "      <th>2020-03-04</th>\n",
       "      <td>-101833.708640</td>\n",
       "      <td>NaN</td>\n",
       "    </tr>\n",
       "    <tr>\n",
       "      <th>2020-03-11</th>\n",
       "      <td>277759.310717</td>\n",
       "      <td>NaN</td>\n",
       "    </tr>\n",
       "    <tr>\n",
       "      <th>2020-03-18</th>\n",
       "      <td>39582.518814</td>\n",
       "      <td>NaN</td>\n",
       "    </tr>\n",
       "    <tr>\n",
       "      <th>2020-03-25</th>\n",
       "      <td>-345197.610249</td>\n",
       "      <td>NaN</td>\n",
       "    </tr>\n",
       "    <tr>\n",
       "      <th>2020-04-01</th>\n",
       "      <td>0.000000</td>\n",
       "      <td>NaN</td>\n",
       "    </tr>\n",
       "  </tbody>\n",
       "</table>\n",
       "<p>279 rows × 2 columns</p>\n",
       "</div>"
      ],
      "text/plain": [
       "                      pnl         cumpnl\n",
       "Date                                    \n",
       "2014-12-03   10753.068408   10753.068408\n",
       "2014-12-10   54572.750635   65325.819043\n",
       "2014-12-17   50421.187422  115747.006466\n",
       "2014-12-24    3212.932978  118959.939444\n",
       "2014-12-31  267240.780226  386200.719669\n",
       "...                   ...            ...\n",
       "2020-03-04 -101833.708640            NaN\n",
       "2020-03-11  277759.310717            NaN\n",
       "2020-03-18   39582.518814            NaN\n",
       "2020-03-25 -345197.610249            NaN\n",
       "2020-04-01       0.000000            NaN\n",
       "\n",
       "[279 rows x 2 columns]"
      ]
     },
     "execution_count": 460,
     "metadata": {},
     "output_type": "execute_result"
    }
   ],
   "source": [
    "pak = carry_trade(USDGBP, yd_pak, price_pak[0], price_pak[1], ois, fx_thai)\n",
    "pak"
   ]
  },
  {
   "cell_type": "code",
   "execution_count": 461,
   "id": "7b5fda74",
   "metadata": {},
   "outputs": [
    {
     "data": {
      "text/plain": [
       "[<matplotlib.lines.Line2D at 0x7fa8b30b69a0>]"
      ]
     },
     "execution_count": 461,
     "metadata": {},
     "output_type": "execute_result"
    },
    {
     "data": {
      "image/png": "[encoded data removed]",
      "text/plain": [
       "<Figure size 432x288 with 1 Axes>"
      ]
     },
     "metadata": {
      "needs_background": "light"
     },
     "output_type": "display_data"
    }
   ],
   "source": [
    "plt.plot(pak['cumpnl'])"
   ]
  },
  {
   "cell_type": "markdown",
   "id": "22ee8f56",
   "metadata": {},
   "source": [
    "# Philippine Peso"
   ]
  },
  {
   "cell_type": "code",
   "execution_count": 462,
   "id": "37b3d6ba",
   "metadata": {},
   "outputs": [
    {
     "data": {
      "text/html": [
       "<div>\n",
       "<style scoped>\n",
       "    .dataframe tbody tr th:only-of-type {\n",
       "        vertical-align: middle;\n",
       "    }\n",
       "\n",
       "    .dataframe tbody tr th {\n",
       "        vertical-align: top;\n",
       "    }\n",
       "\n",
       "    .dataframe thead th {\n",
       "        text-align: right;\n",
       "    }\n",
       "</style>\n",
       "<table border=\"1\" class=\"dataframe\">\n",
       "  <thead>\n",
       "    <tr style=\"text-align: right;\">\n",
       "      <th></th>\n",
       "      <th>pnl</th>\n",
       "      <th>cumpnl</th>\n",
       "    </tr>\n",
       "    <tr>\n",
       "      <th>Date</th>\n",
       "      <th></th>\n",
       "      <th></th>\n",
       "    </tr>\n",
       "  </thead>\n",
       "  <tbody>\n",
       "    <tr>\n",
       "      <th>2014-12-03</th>\n",
       "      <td>12573.742836</td>\n",
       "      <td>1.257374e+04</td>\n",
       "    </tr>\n",
       "    <tr>\n",
       "      <th>2014-12-10</th>\n",
       "      <td>40252.206617</td>\n",
       "      <td>5.282595e+04</td>\n",
       "    </tr>\n",
       "    <tr>\n",
       "      <th>2014-12-17</th>\n",
       "      <td>36368.420074</td>\n",
       "      <td>8.919437e+04</td>\n",
       "    </tr>\n",
       "    <tr>\n",
       "      <th>2014-12-24</th>\n",
       "      <td>-27703.252102</td>\n",
       "      <td>6.149112e+04</td>\n",
       "    </tr>\n",
       "    <tr>\n",
       "      <th>2014-12-31</th>\n",
       "      <td>179099.172071</td>\n",
       "      <td>2.405903e+05</td>\n",
       "    </tr>\n",
       "    <tr>\n",
       "      <th>...</th>\n",
       "      <td>...</td>\n",
       "      <td>...</td>\n",
       "    </tr>\n",
       "    <tr>\n",
       "      <th>2022-11-16</th>\n",
       "      <td>39767.341928</td>\n",
       "      <td>3.008146e+06</td>\n",
       "    </tr>\n",
       "    <tr>\n",
       "      <th>2022-11-23</th>\n",
       "      <td>77837.650727</td>\n",
       "      <td>3.085984e+06</td>\n",
       "    </tr>\n",
       "    <tr>\n",
       "      <th>2022-11-30</th>\n",
       "      <td>88494.621827</td>\n",
       "      <td>3.174478e+06</td>\n",
       "    </tr>\n",
       "    <tr>\n",
       "      <th>2022-12-07</th>\n",
       "      <td>-183018.423332</td>\n",
       "      <td>2.991460e+06</td>\n",
       "    </tr>\n",
       "    <tr>\n",
       "      <th>2022-12-14</th>\n",
       "      <td>0.000000</td>\n",
       "      <td>2.991460e+06</td>\n",
       "    </tr>\n",
       "  </tbody>\n",
       "</table>\n",
       "<p>420 rows × 2 columns</p>\n",
       "</div>"
      ],
      "text/plain": [
       "                      pnl        cumpnl\n",
       "Date                                   \n",
       "2014-12-03   12573.742836  1.257374e+04\n",
       "2014-12-10   40252.206617  5.282595e+04\n",
       "2014-12-17   36368.420074  8.919437e+04\n",
       "2014-12-24  -27703.252102  6.149112e+04\n",
       "2014-12-31  179099.172071  2.405903e+05\n",
       "...                   ...           ...\n",
       "2022-11-16   39767.341928  3.008146e+06\n",
       "2022-11-23   77837.650727  3.085984e+06\n",
       "2022-11-30   88494.621827  3.174478e+06\n",
       "2022-12-07 -183018.423332  2.991460e+06\n",
       "2022-12-14       0.000000  2.991460e+06\n",
       "\n",
       "[420 rows x 2 columns]"
      ]
     },
     "execution_count": 462,
     "metadata": {},
     "output_type": "execute_result"
    }
   ],
   "source": [
    "phil = carry_trade(USDGBP, yd_phil, price_phil[0], price_phil[1], ois, fx_phil)\n",
    "phil"
   ]
  },
  {
   "cell_type": "code",
   "execution_count": 528,
   "id": "1c078615",
   "metadata": {},
   "outputs": [
    {
     "data": {
      "text/plain": [
       "[<matplotlib.lines.Line2D at 0x7fa8b4371b20>]"
      ]
     },
     "execution_count": 528,
     "metadata": {},
     "output_type": "execute_result"
    },
    {
     "data": {
      "image/png": "[encoded data removed]",
      "text/plain": [
       "<Figure size 432x288 with 1 Axes>"
      ]
     },
     "metadata": {
      "needs_background": "light"
     },
     "output_type": "display_data"
    }
   ],
   "source": [
    "plt.plot(phil['cumpnl'])"
   ]
  },
  {
   "cell_type": "markdown",
   "id": "ecb96224",
   "metadata": {},
   "source": [
    "Clearly these carry trades work, rather very well. I'll now compute some metrics on these curves and on the simple pnl ones."
   ]
  },
  {
   "cell_type": "markdown",
   "id": "5fa454d7",
   "metadata": {},
   "source": [
    "The Philippine Peso and Vietnamese Dong are the best performers on our sample, with 3-3.5M dollars in pnl each, but both other currencies proved to have good results."
   ]
  },
  {
   "cell_type": "code",
   "execution_count": 488,
   "id": "44bba577",
   "metadata": {},
   "outputs": [
    {
     "data": {
      "text/plain": [
       "[<matplotlib.lines.Line2D at 0x7fa8b441f760>]"
      ]
     },
     "execution_count": 488,
     "metadata": {},
     "output_type": "execute_result"
    },
    {
     "data": {
      "image/png": "[encoded data removed]",
      "text/plain": [
       "<Figure size 432x288 with 1 Axes>"
      ]
     },
     "metadata": {
      "needs_background": "light"
     },
     "output_type": "display_data"
    }
   ],
   "source": [
    "plt.plot(phil['pnl'].to_list())"
   ]
  },
  {
   "cell_type": "code",
   "execution_count": 485,
   "id": "ecd26ebe",
   "metadata": {},
   "outputs": [
    {
     "data": {
      "text/plain": [
       "[<matplotlib.lines.Line2D at 0x7fa8b39fea90>]"
      ]
     },
     "execution_count": 485,
     "metadata": {},
     "output_type": "execute_result"
    },
    {
     "data": {
      "image/png": "[encoded data removed]",
      "text/plain": [
       "<Figure size 432x288 with 1 Axes>"
      ]
     },
     "metadata": {
      "needs_background": "light"
     },
     "output_type": "display_data"
    }
   ],
   "source": [
    "plt.plot(pak['pnl'].to_list())"
   ]
  },
  {
   "cell_type": "code",
   "execution_count": 486,
   "id": "fa7a9e03",
   "metadata": {},
   "outputs": [
    {
     "data": {
      "text/plain": [
       "[<matplotlib.lines.Line2D at 0x7fa8b41105b0>]"
      ]
     },
     "execution_count": 486,
     "metadata": {},
     "output_type": "execute_result"
    },
    {
     "data": {
      "image/png": "[encoded data removed]",
      "text/plain": [
       "<Figure size 432x288 with 1 Axes>"
      ]
     },
     "metadata": {
      "needs_background": "light"
     },
     "output_type": "display_data"
    }
   ],
   "source": [
    "plt.plot(viet['pnl'].to_list())"
   ]
  },
  {
   "cell_type": "code",
   "execution_count": 487,
   "id": "b5e4a2a8",
   "metadata": {},
   "outputs": [
    {
     "data": {
      "text/plain": [
       "[<matplotlib.lines.Line2D at 0x7fa8b435cd90>]"
      ]
     },
     "execution_count": 487,
     "metadata": {},
     "output_type": "execute_result"
    },
    {
     "data": {
      "image/png": "[encoded data removed]",
      "text/plain": [
       "<Figure size 432x288 with 1 Axes>"
      ]
     },
     "metadata": {
      "needs_background": "light"
     },
     "output_type": "display_data"
    }
   ],
   "source": [
    "plt.plot(phil['pnl'].to_list())"
   ]
  },
  {
   "cell_type": "markdown",
   "id": "549a4f8f",
   "metadata": {},
   "source": [
    "I think it would be interesting to get the ROC, to see if this strategy is really worth it, especially since we have invested a substantial amount."
   ]
  },
  {
   "cell_type": "code",
   "execution_count": null,
   "id": "3c4bfbef",
   "metadata": {},
   "outputs": [],
   "source": [
    "plt.plot(phil['cumpnl'])"
   ]
  },
  {
   "cell_type": "code",
   "execution_count": 497,
   "id": "09ee331d",
   "metadata": {},
   "outputs": [],
   "source": [
    "phil_roc = (phil['pnl']/10000000).mean()\n",
    "pak_roc = (pak['pnl']/10000000).mean()\n",
    "viet_roc = (viet['pnl']/10000000).mean()\n",
    "thai_roc = (thai['pnl']/10000000).mean()"
   ]
  },
  {
   "cell_type": "code",
   "execution_count": 504,
   "id": "b2432b95",
   "metadata": {},
   "outputs": [
    {
     "data": {
      "text/plain": [
       "[0.000712252333413358,\n",
       " 0.002329336724548672,\n",
       " 0.0008249836995550862,\n",
       " 0.00042288664395256513]"
      ]
     },
     "execution_count": 504,
     "metadata": {},
     "output_type": "execute_result"
    }
   ],
   "source": [
    "rocs = [phil_roc,pak_roc,viet_roc,thai_roc]"
   ]
  },
  {
   "cell_type": "code",
   "execution_count": 514,
   "id": "7daff24d",
   "metadata": {},
   "outputs": [
    {
     "data": {
      "text/plain": [
       "[1.0007122523334133, 1.0023293367245487, 1.000824983699555, 1.0004228866439526]"
      ]
     },
     "execution_count": 514,
     "metadata": {},
     "output_type": "execute_result"
    }
   ],
   "source": [
    "rocsweekly = list(map(lambda x : x + 1, rocs))\n",
    "rocsweekly"
   ]
  },
  {
   "cell_type": "code",
   "execution_count": null,
   "id": "9da93938",
   "metadata": {},
   "outputs": [],
   "source": [
    "This is the average weekly RoC, the pakistani carry trade has the largest RoC. Annualy, these translate to:"
   ]
  },
  {
   "cell_type": "code",
   "execution_count": 517,
   "id": "d114de4c",
   "metadata": {},
   "outputs": [
    {
     "data": {
      "text/plain": [
       "[1.0377178611291547,\n",
       " 1.1286075963620104,\n",
       " 1.0438141606264157,\n",
       " 1.0222289182252027]"
      ]
     },
     "execution_count": 517,
     "metadata": {},
     "output_type": "execute_result"
    }
   ],
   "source": [
    "rocsannual = list(map(lambda x : x ** 52, rocsweekly))\n",
    "rocsannual"
   ]
  },
  {
   "cell_type": "markdown",
   "id": "cd266a93",
   "metadata": {},
   "source": [
    "These weekly RoCs can be extrapolated to 12% anual RoC for the pakistani one, which is very decent. Overall, though, we do not observe very large returns."
   ]
  },
  {
   "cell_type": "markdown",
   "id": "13d38191",
   "metadata": {},
   "source": [
    "# Overall Comments"
   ]
  },
  {
   "cell_type": "markdown",
   "id": "af93e0bd",
   "metadata": {},
   "source": [
    "The carry trade is a well know relatively safe trading strategy. As we can see, we observe consitent positive RoC. However, for such large investments with returns not guaranteed to be over 12%"
   ]
  },
  {
   "cell_type": "code",
   "execution_count": null,
   "id": "a8d4d5e7",
   "metadata": {},
   "outputs": [],
   "source": []
  },
  {
   "cell_type": "code",
   "execution_count": null,
   "id": "9e792212",
   "metadata": {},
   "outputs": [],
   "source": []
  }
 ],
 "metadata": {
  "kernelspec": {
   "display_name": "Python 3 (ipykernel)",
   "language": "python",
   "name": "python3"
  },
  "language_info": {
   "codemirror_mode": {
    "name": "ipython",
    "version": 3
   },
   "file_extension": ".py",
   "mimetype": "text/x-python",
   "name": "python",
   "nbconvert_exporter": "python",
   "pygments_lexer": "ipython3",
   "version": "3.9.12"
  }
 },
 "nbformat": 4,
 "nbformat_minor": 5
}
